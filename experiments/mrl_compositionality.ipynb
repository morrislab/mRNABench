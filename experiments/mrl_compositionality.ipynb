{
 "cells": [
  {
   "cell_type": "markdown",
   "metadata": {},
   "source": [
    "### Analyze dataset used for mrl compositionality task"
   ]
  },
  {
   "cell_type": "code",
   "execution_count": 1,
   "metadata": {},
   "outputs": [],
   "source": [
    "import mrna_bench as mb\n",
    "dataset = mb.load_dataset(\"mrl-sample-egfp\")\n",
    "data_df = dataset.data_df"
   ]
  },
  {
   "cell_type": "code",
   "execution_count": 2,
   "metadata": {},
   "outputs": [
    {
     "data": {
      "text/html": [
       "<div>\n",
       "<style scoped>\n",
       "    .dataframe tbody tr th:only-of-type {\n",
       "        vertical-align: middle;\n",
       "    }\n",
       "\n",
       "    .dataframe tbody tr th {\n",
       "        vertical-align: top;\n",
       "    }\n",
       "\n",
       "    .dataframe thead th {\n",
       "        text-align: right;\n",
       "    }\n",
       "</style>\n",
       "<table border=\"1\" class=\"dataframe\">\n",
       "  <thead>\n",
       "    <tr style=\"text-align: right;\">\n",
       "      <th></th>\n",
       "      <th>sequence</th>\n",
       "      <th>cds</th>\n",
       "      <th>splice</th>\n",
       "      <th>target_mrl_egfp_m1pseudo</th>\n",
       "      <th>target_mrl_egfp_pseudo</th>\n",
       "      <th>target_mrl_egfp_unmod</th>\n",
       "      <th>u_start</th>\n",
       "      <th>u_oof_start</th>\n",
       "      <th>kozak_quality</th>\n",
       "    </tr>\n",
       "  </thead>\n",
       "  <tbody>\n",
       "    <tr>\n",
       "      <th>0</th>\n",
       "      <td>GGGACATCGTAGAGAGTCGTACTTACCACTCGATTAACATGTTAAC...</td>\n",
       "      <td>[0, 0, 0, 0, 0, 0, 0, 0, 0, 0, 0, 0, 0, 0, 0, ...</td>\n",
       "      <td>[0, 0, 0, 0, 0, 0, 0, 0, 0, 0, 0, 0, 0, 0, 0, ...</td>\n",
       "      <td>3.643867</td>\n",
       "      <td>3.333217</td>\n",
       "      <td>2.864254</td>\n",
       "      <td>1</td>\n",
       "      <td>1</td>\n",
       "      <td>mixed</td>\n",
       "    </tr>\n",
       "  </tbody>\n",
       "</table>\n",
       "</div>"
      ],
      "text/plain": [
       "                                            sequence  \\\n",
       "0  GGGACATCGTAGAGAGTCGTACTTACCACTCGATTAACATGTTAAC...   \n",
       "\n",
       "                                                 cds  \\\n",
       "0  [0, 0, 0, 0, 0, 0, 0, 0, 0, 0, 0, 0, 0, 0, 0, ...   \n",
       "\n",
       "                                              splice  \\\n",
       "0  [0, 0, 0, 0, 0, 0, 0, 0, 0, 0, 0, 0, 0, 0, 0, ...   \n",
       "\n",
       "   target_mrl_egfp_m1pseudo  target_mrl_egfp_pseudo  target_mrl_egfp_unmod  \\\n",
       "0                  3.643867                3.333217               2.864254   \n",
       "\n",
       "   u_start  u_oof_start kozak_quality  \n",
       "0        1            1         mixed  "
      ]
     },
     "execution_count": 2,
     "metadata": {},
     "output_type": "execute_result"
    }
   ],
   "source": [
    "data_df.head(1)"
   ]
  },
  {
   "cell_type": "markdown",
   "metadata": {},
   "source": [
    "### Visualize the mrls for different feature combinations of kozak quality and upstream start codon presence\n"
   ]
  },
  {
   "cell_type": "code",
   "execution_count": 3,
   "metadata": {},
   "outputs": [
    {
     "name": "stderr",
     "output_type": "stream",
     "text": [
      "/tmp/ipykernel_3533169/3555213294.py:7: SettingWithCopyWarning: \n",
      "A value is trying to be set on a copy of a slice from a DataFrame.\n",
      "Try using .loc[row_indexer,col_indexer] = value instead\n",
      "\n",
      "See the caveats in the documentation: https://pandas.pydata.org/pandas-docs/stable/user_guide/indexing.html#returning-a-view-versus-a-copy\n",
      "  subset_df['feature_combo'] = subset_df.apply(\n"
     ]
    },
    {
     "name": "stdout",
     "output_type": "stream",
     "text": [
      "Mean mrls:\n",
      " feature_combo\n",
      "uAUG: False,\\nstrong Kozak    7.159871\n",
      "uAUG: False,\\nweak Kozak      6.490092\n",
      "uAUG: True,\\nstrong Kozak     5.272914\n",
      "uAUG: True,\\nweak Kozak       4.989158\n",
      "Name: target_mrl_egfp_unmod, dtype: float64\n"
     ]
    },
    {
     "name": "stderr",
     "output_type": "stream",
     "text": [
      "/tmp/ipykernel_3533169/3555213294.py:23: FutureWarning: \n",
      "\n",
      "Passing `palette` without assigning `hue` is deprecated and will be removed in v0.14.0. Assign the `x` variable to `hue` and set `legend=False` for the same effect.\n",
      "\n",
      "  sns.pointplot(\n"
     ]
    },
    {
     "data": {
      "image/png": "[encoded data removed]",
      "text/plain": [
       "<Figure size 400x500 with 1 Axes>"
      ]
     },
     "metadata": {},
     "output_type": "display_data"
    }
   ],
   "source": [
    "import pandas as pd\n",
    "import seaborn as sns\n",
    "import matplotlib.pyplot as plt\n",
    "\n",
    "subset_df = data_df[data_df['kozak_quality'] != 'mixed']\n",
    "# Create a new column with the combination labels\n",
    "subset_df['feature_combo'] = subset_df.apply(\n",
    "    lambda row: f\"uAUG: {bool(row['u_start'])},\\n{row['kozak_quality']} Kozak\",\n",
    "    #lambda row: f\"oof start:{row['oof_start']},\\n{'good' if row['canonical_kozak'] else 'bad'} kozak\",\n",
    "    axis=1\n",
    ")\n",
    "y = 'target_mrl_egfp_unmod'\n",
    "# Sort combos by mean MRL for nicer ordering\n",
    "mean_mrls = subset_df.groupby('feature_combo')[y].mean().sort_values(ascending=False)\n",
    "print(\"Mean mrls:\\n\", mean_mrls)\n",
    "ordered_combos = mean_mrls.index.tolist()\n",
    "\n",
    "# Set up the plot\n",
    "plt.figure(figsize=(4, 5))\n",
    "sns.set(style=\"white\", font_scale=1.2)\n",
    "\n",
    "# Use boxplot (or use sns.barplot for mean + CI)\n",
    "sns.pointplot(\n",
    "    x='feature_combo',\n",
    "    y='target_mrl_egfp_unmod',\n",
    "    data=subset_df,\n",
    "    order=ordered_combos,\n",
    "    palette=\"viridis\",\n",
    "    errorbar='sd'\n",
    ")\n",
    "\n",
    "plt.xlabel(\"\")\n",
    "plt.ylabel(y)\n",
    "plt.xticks(rotation=90)\n",
    "sns.despine()  # removes top and right spines\n",
    "plt.tight_layout()\n",
    "plt.show()\n"
   ]
  },
  {
   "cell_type": "code",
   "execution_count": 4,
   "metadata": {},
   "outputs": [
    {
     "data": {
      "text/plain": [
       "feature_combo\n",
       "uAUG: False,\\nstrong Kozak    35534\n",
       "uAUG: False,\\nweak Kozak       2533\n",
       "uAUG: True,\\nstrong Kozak     38810\n",
       "uAUG: True,\\nweak Kozak        5043\n",
       "Name: count, dtype: int64"
      ]
     },
     "execution_count": 4,
     "metadata": {},
     "output_type": "execute_result"
    }
   ],
   "source": [
    "subset_df['feature_combo'].value_counts().sort_index()"
   ]
  },
  {
   "cell_type": "code",
   "execution_count": 5,
   "metadata": {},
   "outputs": [
    {
     "name": "stdout",
     "output_type": "stream",
     "text": [
      "Significant pairwise comparisons (FDR-adjusted):\n",
      "                       Group1                      Group2      adj_pval\n",
      "0   uAUG: True,\\nstrong Kozak  uAUG: False,\\nstrong Kozak  0.000000e+00\n",
      "2   uAUG: True,\\nstrong Kozak    uAUG: False,\\nweak Kozak  0.000000e+00\n",
      "3  uAUG: False,\\nstrong Kozak     uAUG: True,\\nweak Kozak  0.000000e+00\n",
      "4  uAUG: False,\\nstrong Kozak    uAUG: False,\\nweak Kozak  0.000000e+00\n",
      "5     uAUG: True,\\nweak Kozak    uAUG: False,\\nweak Kozak  0.000000e+00\n",
      "1   uAUG: True,\\nstrong Kozak     uAUG: True,\\nweak Kozak  6.382378e-43\n"
     ]
    }
   ],
   "source": [
    "from itertools import combinations\n",
    "from scipy.stats import ttest_ind\n",
    "from statsmodels.stats.multitest import multipletests\n",
    "\n",
    "# All unique pairs\n",
    "combos = subset_df['feature_combo'].unique()\n",
    "pairs = list(combinations(combos, 2))\n",
    "\n",
    "# Perform t-tests\n",
    "results = []\n",
    "for a, b in pairs:\n",
    "    group_a = subset_df[subset_df['feature_combo'] == a]['target_mrl_egfp_unmod']\n",
    "    group_b = subset_df[subset_df['feature_combo'] == b]['target_mrl_egfp_unmod']\n",
    "    stat, pval = ttest_ind(group_a, group_b, equal_var=False)\n",
    "    results.append((a, b, pval))\n",
    "\n",
    "# Multiple testing correction\n",
    "pvals = [x[2] for x in results]\n",
    "reject, pvals_corrected, _, _ = multipletests(pvals, method='fdr_bh')\n",
    "\n",
    "# Create a significance table\n",
    "sig_results = pd.DataFrame(results, columns=['Group1', 'Group2', 'raw_pval'])\n",
    "sig_results['adj_pval'] = pvals_corrected\n",
    "sig_results['significant'] = reject\n",
    "\n",
    "# Show significant comparisons only\n",
    "sig_results = sig_results[sig_results['significant']].sort_values('adj_pval')\n",
    "\n",
    "print(\"Significant pairwise comparisons (FDR-adjusted):\")\n",
    "print(sig_results[['Group1', 'Group2', 'adj_pval']])"
   ]
  }
 ],
 "metadata": {
  "kernelspec": {
   "display_name": "mbench_dk",
   "language": "python",
   "name": "python3"
  },
  "language_info": {
   "codemirror_mode": {
    "name": "ipython",
    "version": 3
   },
   "file_extension": ".py",
   "mimetype": "text/x-python",
   "name": "python",
   "nbconvert_exporter": "python",
   "pygments_lexer": "ipython3",
   "version": "3.10.17"
  }
 },
 "nbformat": 4,
 "nbformat_minor": 2
}
